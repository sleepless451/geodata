{
 "cells": [
  {
   "cell_type": "code",
   "execution_count": 1,
   "metadata": {},
   "outputs": [],
   "source": [
    "import rasterio\n",
    "\n",
    "data = rasterio.open(\"../dataset/soil_moisture.tif\")"
   ]
  },
  {
   "cell_type": "code",
   "execution_count": 6,
   "metadata": {},
   "outputs": [
    {
     "name": "stdout",
     "output_type": "stream",
     "text": [
      "CRS = EPSG:4326\n",
      "BoundingBox(left=29.566633136000007, bottom=49.434589403000004, right=31.185382877000006, top=50.486672568)\n"
     ]
    }
   ],
   "source": [
    "data.crs\n",
    "data.bounds\n",
    "print('CRS =', data.crs)\n",
    "print(data.bounds)"
   ]
  },
  {
   "cell_type": "code",
   "execution_count": 7,
   "metadata": {},
   "outputs": [
    {
     "data": {
      "text/plain": [
       "array([[[65535, 65535, 65535, ..., 65535, 65535, 65535],\n",
       "        [65535, 65535, 65535, ..., 65535, 65535, 65535],\n",
       "        [65535, 65535, 65535, ..., 65535, 65535, 65535],\n",
       "        ...,\n",
       "        [65535, 65535, 65535, ..., 65535, 65535, 65535],\n",
       "        [65535, 65535, 65535, ..., 65535, 65535, 65535],\n",
       "        [65535, 65535, 65535, ..., 65535, 65535, 65535]]], dtype=uint16)"
      ]
     },
     "execution_count": 7,
     "metadata": {},
     "output_type": "execute_result"
    }
   ],
   "source": [
    "array = data.read()\n",
    "array"
   ]
  },
  {
   "cell_type": "code",
   "execution_count": 8,
   "metadata": {},
   "outputs": [
    {
     "name": "stdout",
     "output_type": "stream",
     "text": [
      "Correct: 169180\n",
      "Incorrect: 223205\n"
     ]
    }
   ],
   "source": [
    "print(f'Correct: {array[array != 65535].size}')\n",
    "print(f'Incorrect: {array[array == 65535].size}')"
   ]
  }
 ],
 "metadata": {
  "kernelspec": {
   "display_name": "Python 3",
   "language": "python",
   "name": "python3"
  },
  "language_info": {
   "codemirror_mode": {
    "name": "ipython",
    "version": 3
   },
   "file_extension": ".py",
   "mimetype": "text/x-python",
   "name": "python",
   "nbconvert_exporter": "python",
   "pygments_lexer": "ipython3",
   "version": "3.11.2"
  },
  "orig_nbformat": 4,
  "vscode": {
   "interpreter": {
    "hash": "72b2382ece9768098284d92bbc69d35954e75b60d1e25897d1389c232f4796f0"
   }
  }
 },
 "nbformat": 4,
 "nbformat_minor": 2
}
